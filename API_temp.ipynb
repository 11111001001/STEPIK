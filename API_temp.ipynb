{
 "cells": [
  {
   "cell_type": "code",
   "execution_count": 1,
   "metadata": {},
   "outputs": [
    {
     "name": "stdout",
     "output_type": "stream",
     "text": [
      "City? Ramenskoye\n",
      "Current temperature in Ramenskoye is 20.46\n"
     ]
    }
   ],
   "source": [
    "import requests\n",
    "\n",
    "api_url = \"http://api.openweathermap.org/data/2.5/weather\"\n",
    "\n",
    "city = input(\"City? \")\n",
    "params = {\n",
    "    'q': city,\n",
    "    'appid': '11c0d3dc6093f7442898ee49d2430d20',\n",
    "    'units': 'metric'\n",
    "}\n",
    "\n",
    "res = requests.get(api_url, params=params)\n",
    "\n",
    "data = res.json()\n",
    "template = 'Current temperature in {} is {}'\n",
    "print(template.format(city, data[\"main\"][\"temp\"]))"
   ]
  },
  {
   "cell_type": "code",
   "execution_count": null,
   "metadata": {},
   "outputs": [],
   "source": []
  }
 ],
 "metadata": {
  "kernelspec": {
   "display_name": "Python 3",
   "language": "python",
   "name": "python3"
  },
  "language_info": {
   "codemirror_mode": {
    "name": "ipython",
    "version": 3
   },
   "file_extension": ".py",
   "mimetype": "text/x-python",
   "name": "python",
   "nbconvert_exporter": "python",
   "pygments_lexer": "ipython3",
   "version": "3.7.6"
  }
 },
 "nbformat": 4,
 "nbformat_minor": 4
}
